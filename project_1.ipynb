{
  "nbformat": 4,
  "nbformat_minor": 0,
  "metadata": {
    "colab": {
      "provenance": []
    },
    "kernelspec": {
      "name": "python3",
      "display_name": "Python 3"
    },
    "language_info": {
      "name": "python"
    }
  },
  "cells": [
    {
      "cell_type": "code",
      "execution_count": null,
      "metadata": {
        "id": "l8cYZC-msLsQ"
      },
      "outputs": [],
      "source": [
        "import random\n",
        "x = random.randint(1,99)\n",
        "print(x)\n",
        "y =''\n",
        "while y != 'd':\n",
        "  y = input('')\n",
        "  if y == 'k':\n",
        "    z = random.randint(1,x)\n",
        "    print(z)\n",
        "  elif y == 'b':\n",
        "    z = random.randint(x,99)\n",
        "    print(z)\n",
        "  elif y == 'd':\n",
        "    print('end')"
      ]
    }
  ]
}